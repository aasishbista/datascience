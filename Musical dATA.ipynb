{
    "cells": [
        {
            "cell_type": "code",
            "execution_count": 1,
            "metadata": {},
            "outputs": [
                {
                    "name": "stdout",
                    "output_type": "stream",
                    "text": "Waiting for a Spark session to start...\nSpark Initialization Done! ApplicationId = app-20200714070852-0000\nKERNEL_ID = 795d2a28-8325-4315-afbb-8d2e2b10a528\n"
                },
                {
                    "data": {
                        "text/plain": "[Row(reviewerID='A2IBPI20UZIR0U', asin='1384719342', reviewerName='\"cassandra tu \"\"Yeah', helpful=' well', reviewText=\" that's just like\", overall=' u...\"', summary='[0, 0]', unixReviewTime=\"Not much to write about here, but it does exactly what it's supposed to. filters out the pop sounds. now my recordings are much more crisp. it is one of the lowest prices pop filters on amazon so might as well buy it, they honestly work the same despite their pricing,\", reviewTime='5.0'),\n Row(reviewerID='A14VAT5EAX3D9S', asin='1384719342', reviewerName='Jake', helpful='[13, 14]', reviewText=\"The product does exactly as it should and is quite affordable.I did not realized it was double screened until it arrived, so it was even better than I had expected.As an added bonus, one of the screens carries a small hint of the smell of an old grape candy I used to buy, so for reminiscent's sake, I cannot stop putting the pop filter next to my nose and smelling it after recording. :DIf you needed a pop filter, this will work just as well as the expensive ones, and it may even come with a pleasing aroma like mine did!Buy this product! :]\", overall='5.0', summary='Jake', unixReviewTime='1363392000', reviewTime='03 16, 2013'),\n Row(reviewerID='A195EZSQDW3E21', asin='1384719342', reviewerName='\"Rick Bennette \"\"Rick Bennette\"\"\"', helpful='[1, 1]', reviewText='The primary job of this device is to block the breath that would otherwise produce a popping sound, while allowing your voice to pass through with no noticeable reduction of volume or high frequencies. The double cloth filter blocks the pops and lets the voice through with no coloration. The metal clamp mount attaches to the mike stand secure enough to keep it attached. The goose neck needs a little coaxing to stay where you put it.', overall='5.0', summary='It Does The Job Well', unixReviewTime='1377648000', reviewTime='08 28, 2013'),\n Row(reviewerID='A2C00NNG1ZQQG2', asin='1384719342', reviewerName='\"RustyBill \"\"Sunday Rocker\"\"\"', helpful='[0, 0]', reviewText='Nice windscreen protects my MXL mic and prevents pops. Only thing is that the gooseneck is only marginally able to hold the screen in position and requires careful positioning of the clamp to avoid sagging.', overall='5.0', summary='GOOD WINDSCREEN FOR THE MONEY', unixReviewTime='1392336000', reviewTime='02 14, 2014'),\n Row(reviewerID='A94QU4C90B1AX', asin='1384719342', reviewerName='SEAN MASLANKA', helpful='[0, 0]', reviewText=\"This pop filter is great. It looks and performs like a studio filter. If you're recording vocals this will eliminate the pops that gets recorded when you sing.\", overall='5.0', summary='No more pops when I record my vocals.', unixReviewTime='1392940800', reviewTime='02 21, 2014')]"
                    },
                    "execution_count": 1,
                    "metadata": {},
                    "output_type": "execute_result"
                }
            ],
            "source": "# The code was removed by Watson Studio for sharing."
        },
        {
            "cell_type": "code",
            "execution_count": null,
            "metadata": {},
            "outputs": [],
            "source": ""
        }
    ],
    "metadata": {
        "kernelspec": {
            "display_name": "Python 3.6 with Spark",
            "language": "python3",
            "name": "python36"
        },
        "language_info": {
            "codemirror_mode": {
                "name": "ipython",
                "version": 3
            },
            "file_extension": ".py",
            "mimetype": "text/x-python",
            "name": "python",
            "nbconvert_exporter": "python",
            "pygments_lexer": "ipython3",
            "version": "3.6.8"
        }
    },
    "nbformat": 4,
    "nbformat_minor": 1
}